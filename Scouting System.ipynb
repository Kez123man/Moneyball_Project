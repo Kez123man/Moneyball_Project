{
 "cells": [
  {
   "cell_type": "code",
   "execution_count": 1,
   "id": "3a8a6728",
   "metadata": {},
   "outputs": [
    {
     "data": {
      "text/plain": [
       "'Importing all necessary modules and the datasets that went through stages 1-7. This is stage 7, where outcomes and \\nresults are compared. Moreover, this is one of the manegerial applications of the project: A Football Scouting System \\n(Adapted from: Holland and Shaw (2019).'"
      ]
     },
     "execution_count": 1,
     "metadata": {},
     "output_type": "execute_result"
    }
   ],
   "source": [
    "'''Importing all necessary modules and the datasets that went through stages 1-7. This is stage 7, where outcomes and \n",
    "results are compared. Moreover, this is one of the manegerial applications of the project: A Football Scouting System \n",
    "(Adapted from: Holland and Shaw (2019).'''"
   ]
  },
  {
   "cell_type": "code",
   "execution_count": 2,
   "id": "03d799a8",
   "metadata": {},
   "outputs": [],
   "source": [
    "import pandas as pd\n",
    "import ipywidgets as widgets\n",
    "from IPython.display import display\n",
    "\n",
    "mid_df = pd.read_csv('file_mid_wig.csv', low_memory=False)\n",
    "att_df = pd.read_csv('file_att_wig.csv', low_memory=False)\n",
    "def_df = pd.read_csv('file_def_wig.csv', low_memory=False)\n",
    "GK_df = pd.read_csv('file_GK_wig.csv', low_memory=False)\n",
    "\n",
    "# Title: Widget List\n",
    "# Author: Jupyter Widgets\n",
    "# Date: No date\n",
    "# Code Version: 7.6.2\n",
    "# Source: \"https://ipywidgets.readthedocs.io/en/7.6.2/examples/Using%20Interact.html\"\n",
    "\n",
    "# Title: Widget List\n",
    "# Author: Jupyter Widgets\n",
    "# Date: No date\n",
    "# Code Version: 8.1.3\n",
    "# Source: \"https://ipywidgets.readthedocs.io/en/latest/examples/Using%20Interact.html\"\n",
    "\n",
    "# Title: User Guide - Pandas\n",
    "# Author: N/A\n",
    "# Date: No date\n",
    "# Code Version: 2.2\n",
    "# Source: \"https://pandas.pydata.org/docs/user_guide/index.html\"\n",
    "\n",
    "# Title: Module: display\n",
    "# Author: N/A\n",
    "# Date: No date\n",
    "# Code Version: 6.0\n",
    "# Source: \"https://ipython.readthedocs.io/en/stable/api/generated/IPython.display.html\""
   ]
  },
  {
   "cell_type": "code",
   "execution_count": 3,
   "id": "198d4e4c",
   "metadata": {},
   "outputs": [
    {
     "data": {
      "text/plain": [
       "Index(['Squad', 'Player', 'Fouls_Commited', 'Fouls_Won', 'Offsides', 'Crosses',\n",
       "       'Penalties_Won', 'Penalties_Conceded', 'Own_Goals', 'Ball_Recoveries',\n",
       "       'Aerial_Duels_Won', 'Aerial_Duels_Lost', 'Aerial_Duels_Won_Per',\n",
       "       'Nation', 'Comp', 'Age', 'Playing_Time_MP', 'Playing_Time_Starts',\n",
       "       'Playing_Time_Min', 'Playing_Time_90s', 'Goals', 'Assists',\n",
       "       'Goals_and_Assists', 'Goals_Minus_PK', 'Penalty_Goals',\n",
       "       'Penalties_Attempted', 'Performance_CrdY', 'Performance_CrdR',\n",
       "       'Expected_xG', 'Expected_npxG', 'Expected_xAG', 'Progression_PrgC',\n",
       "       'Progression_PrgP', 'Progression_PrgR', 'Per_90_Min_Gls',\n",
       "       'Per 90 Minutes Ast', 'Per_90_Min_Goal_Contributions',\n",
       "       'Per_90_Min_Non_Pen_Goals', 'Per_90_Min_Non_Penalty_Goal_Contributions',\n",
       "       'Per_90_Min_xG', 'Per_90_Min_xAG', 'Per_90_Min_xG+xAG',\n",
       "       'Per_90_Min_npxG', 'Per_90_Min_npxG+xAG', 'Touches_Def_Pen',\n",
       "       'Touches_Def_3rd', 'Touches_Mid_3rd', 'Touches_Att_3rd',\n",
       "       'Touches_Att_Pen', 'Touches_Live', 'Take_Ons_Att', 'Take_Ons_Succ',\n",
       "       'Take_Ons_Succ_Per', 'Take_Ons_Tkld', 'Take_Ons_Tkld_Per', 'Carries',\n",
       "       'Carries_TotDist', 'Carries_PrgDist', 'Carries_PrgC',\n",
       "       'Carries_Into_Final_1/3', 'Carries_Into_Penalty_Box', 'Miscontrol',\n",
       "       'Dispossessed', 'Passes_Recieved', 'Progressive_Passes_Recieved',\n",
       "       'Tackles_Tkl', 'Tackles_TklW', 'Tackles_Def_3rd', 'Tackles_Mid_3rd',\n",
       "       'Tackles_Att_3rd', 'Dribblers_Tkl', 'Dribblers_Challenged',\n",
       "       'Per_Dribblers_Tkl_Succ', 'Challenges_Lost', 'Blocks', 'Blocked_Shots',\n",
       "       'Blocked_Passes', 'Interceptions', 'Tkl_Plus_Int', 'Clearances',\n",
       "       'Errors', 'Country_of_Birth', 'Country_of_Citizenship', 'date_of_birth',\n",
       "       'Sub_Position', 'Position', 'Foot', 'Height_in_CM',\n",
       "       'Contract_Expiration_Date', 'Agent_Name', 'Current_Club_Name',\n",
       "       'Market_Value_in_Eur', 'Highest_Market_Value_in_Eur', 'Touches',\n",
       "       'Usage_Rate_Per', 'Score', 'Predicted_Performance', 'Predicted_Value',\n",
       "       'Change_in_Value'],\n",
       "      dtype='object')"
      ]
     },
     "execution_count": 3,
     "metadata": {},
     "output_type": "execute_result"
    }
   ],
   "source": [
    "def_df.columns"
   ]
  },
  {
   "cell_type": "code",
   "execution_count": 4,
   "id": "82dd5cb5",
   "metadata": {},
   "outputs": [],
   "source": [
    "# This block creates slides using the widgets which can be adjusted for the desirable criteria for each variables\n",
    "# 'min' and 'max' are the minimum and maximum you want for each variables\n",
    "# I.e., minimum number of goals scored by a midfielder = 0 and maximum = 30\n",
    "# Step is how much the slider will change when moved, in this it will be 1\n",
    "# The value when the output is loaded (i.e., 10 goals scored)\n",
    "\n",
    "# Outfield Players' interface\n",
    "Goals_slider = widgets.IntSlider(min=0, max=50, step=1, value=5, description='Goals:')\n",
    "assists_slider = widgets.IntSlider(min=0, max=30, step=1, value=5, description='Assists:')\n",
    "Tackles_slider = widgets.IntSlider(min=0, max=100, step=1, value=10, description='Tackles_Tkl:')\n",
    "Age_slider = widgets.IntSlider(min=16, max=50, step=1, value=25, description='Age:')\n",
    "npxG_slider = widgets.IntSlider(min=0, max=50, step=1, value=5, description='Expected_npxG:')\n",
    "Progression_PrgC_slider = widgets.IntSlider(min=0, max=200, step=1, value=25, description='Progression_PrgC:')\n",
    "Progression_PrgP_slider = widgets.IntSlider(min=0, max=200, step=1, value=25, description='Progression_PrgP:')\n",
    "Usage_Rate_slider = widgets.IntSlider(min=0, max=50, step=1, value=5, description='Usage_Rate_Per:')\n",
    "Score_slider = widgets.IntSlider(min=0, max=5000, step=1, value=500, description='Score:')\n",
    "market_value_in_eur_slider = widgets.IntSlider(min=0, max=200000000, step=100000, value=50000000, description='market_value_in_eur:')\n",
    "Tackles_TklW_slider = widgets.IntSlider(min=0, max=50, step=1, value=5, description='Tackles_TklW:')\n",
    "Int_slider= widgets.IntSlider(min=0, max=50, step=1, value=5, description='Int:')\n",
    "Blocks_slider= widgets.IntSlider(min=0, max=50, step=1, value=5, description='Blocks:')\n",
    "Clr_slider= widgets.IntSlider(min=0, max=50, step=1, value=5, description='Clr:')\n",
    "Challenges_Att_slider= widgets.IntSlider(min=0, max=50, step=1, value=5, description='Challenges_Att:')\n",
    "Challenges_Tkl_per_slider= widgets.IntSlider(min=0, max=100, step=1, value=5, description='Challenges_Tkl_per:')\n",
    "Challenges_Lost_slider= widgets.IntSlider(min=0, max=50, step=1, value=5, description='Challenges_Lost:')\n",
    "Performance_CrdY_slider= widgets.IntSlider(min=0, max=50, step=1, value=0, description='Performance_CrdY:')\n",
    "Performance_CrdR_slider= widgets.IntSlider(min=0, max=50, step=1, value=0, description='Performance_CrdR:')\n",
    "\n",
    "# Goalkeepers' interface\n",
    "Performance_Save_per_slider= widgets.IntSlider(min=0, max=100, step=1, value=0, description='Performance_Save_per:')\n",
    "Penalties_saved_slider= widgets.IntSlider(min=0, max=20, step=1, value=0, description='Penalties_saved_Att:')\n",
    "PSxG_minus_GA_slider= widgets.IntSlider(min=0, max=30, step=1, value=0, description='PSxG_minus_GA:')\n",
    "Crosses_Stp_per_slider= widgets.IntSlider(min=0, max=30, step=1, value=0, description='Crosses_Stp_per:')\n",
    "Number_of_Sweep_slider= widgets.IntSlider(min=0, max=10, step=1, value=0, description='Number_of_Sweep:')\n",
    "Long_Pass_Acc_per_slider= widgets.IntSlider(min=0, max=50, step=1, value=0, description='Long_Pass_Acc_per:')\n",
    "    \n",
    "# Adapted From:\n",
    "# Title: Widget List\n",
    "# Author: Jupyter Widgets\n",
    "# Date: No date\n",
    "# Code Version: 7.6.2\n",
    "# Source: \"https://ipywidgets.readthedocs.io/en/7.6.2/examples/Using%20Interact.html\"\n",
    "\n",
    "# Adapted From:\n",
    "# Title: Widget List\n",
    "# Author: Jupyter Widgets\n",
    "# Date: No date\n",
    "# Code Version: 8.1.3\n",
    "# Source: \"https://ipywidgets.readthedocs.io/en/latest/examples/Using%20Interact.html\"\n",
    "\n",
    "# Adapted From:\n",
    "# Title: ipywidgets: Interactive Widgets in Jupyter Notebooks (Complete Guide)\n",
    "# Author: Sunny Solanki\n",
    "# Date: 2022\n",
    "# Code Version: N/A\n",
    "# Source: \"https://coderzcolumn.com/tutorials/python/interactive-widgets-in-jupyter-notebook-using-ipywidgets\"\n",
    "\n",
    "# Adapted From:\n",
    "# Author: Open AI\n",
    "# Date: 2024\n",
    "# Source: ChatGPT [online] \"https://chat.openai.com/\""
   ]
  },
  {
   "cell_type": "code",
   "execution_count": 5,
   "id": "fe7b020f",
   "metadata": {},
   "outputs": [],
   "source": [
    "# Midfielders\n",
    "# This function filters the Dataset based on the slider values made by the widgets\n",
    "# This will use the sliders for the outfield players and apply them to the midfielders \n",
    "def filter_players_mid(Goals, Assists, Tackles_Tkl, Age, Expected_npxG, Progression_PrgC, Progression_PrgP, Usage_Rate_Per, Score):\n",
    "    scout_interface_mid = (mid_df[(mid_df['Goals'] >= Goals) & \n",
    "                          (mid_df['Assists'] >= Assists) & \n",
    "                          (mid_df['Tackles_Tkl'] >= Tackles_Tkl) &\n",
    "                          (mid_df['Age'] <= Age) &\n",
    "                          (mid_df['Expected_npxG'] >= Expected_npxG) &\n",
    "                          (mid_df['Progression_PrgC'] >= Progression_PrgC) &\n",
    "                          (mid_df['Progression_PrgP'] >= Progression_PrgP) &\n",
    "                          (mid_df['Usage_Rate_Per'] >= Usage_Rate_Per) &\n",
    "                          (mid_df['Score'] >= Score)]\n",
    "                  )\n",
    "    display(scout_interface_mid)\n",
    "\n",
    "    \n",
    "# >= equal to or more\n",
    "# <= equal to or less\n",
    "\n",
    "# Adapted From:\n",
    "# Title: Widget List\n",
    "# Author: Jupyter Widgets\n",
    "# Date: No date\n",
    "# Code Version: 7.6.2\n",
    "# Source: \"https://ipywidgets.readthedocs.io/en/7.6.2/examples/Using%20Interact.html\"\n",
    "\n",
    "# Adapted From:\n",
    "# Title: Widget List\n",
    "# Author: Jupyter Widgets\n",
    "# Date: No date\n",
    "# Code Version: 8.1.3\n",
    "# Source: \"https://ipywidgets.readthedocs.io/en/latest/examples/Using%20Interact.html\"\n",
    "\n",
    "# Adapted From:\n",
    "# Title: ipywidgets: Interactive Widgets in Jupyter Notebooks (Complete Guide)\n",
    "# Author: Sunny Solanki\n",
    "# Date: 2022\n",
    "# Code Version: N/A\n",
    "# Source: \"https://coderzcolumn.com/tutorials/python/interactive-widgets-in-jupyter-notebook-using-ipywidgets\"\n",
    "\n",
    "\n",
    "# Adapted From:\n",
    "# Author: Open AI\n",
    "# Date: 2024\n",
    "# Source: ChatGPT [online] \"https://chat.openai.com/\""
   ]
  },
  {
   "cell_type": "code",
   "execution_count": 6,
   "id": "b7345aa7",
   "metadata": {},
   "outputs": [],
   "source": [
    "# Interactive output widget is made\n",
    "# 'interactive_output' function connects the sliders with 'filter_players_mid' function\n",
    "mid_inter = widgets.interactive_output(filter_players_mid, {'Goals': Goals_slider, 'Assists': assists_slider, \n",
    "                                                  'Tackles_Tkl': Tackles_slider,'Age': Age_slider, \n",
    "                                                  'Expected_npxG': npxG_slider, 'Progression_PrgC': Progression_PrgC_slider,\n",
    "                                                  'Progression_PrgP': Progression_PrgP_slider, 'Usage_Rate_Per': Usage_Rate_slider,\n",
    "                                                  'Score': Score_slider})\n",
    "\n",
    "\n",
    "# Adapted From:\n",
    "# Title: Widget List\n",
    "# Author: Jupyter Widgets\n",
    "# Date: No date\n",
    "# Code Version: 7.6.2\n",
    "# Source: \"https://ipywidgets.readthedocs.io/en/7.6.2/examples/Using%20Interact.html\"\n",
    "\n",
    "# Adapted From:\n",
    "# Title: Widget List\n",
    "# Author: Jupyter Widgets\n",
    "# Date: No date\n",
    "# Code Version: 8.1.3\n",
    "# Source: \"https://ipywidgets.readthedocs.io/en/latest/examples/Using%20Interact.html\"\n",
    "\n",
    "# Adapted From:\n",
    "# Title: ipywidgets: Interactive Widgets in Jupyter Notebooks (Complete Guide)\n",
    "# Author: Sunny Solanki\n",
    "# Date: 2022\n",
    "# Code Version: N/A\n",
    "# Source: \"https://coderzcolumn.com/tutorials/python/interactive-widgets-in-jupyter-notebook-using-ipywidgets\"\n",
    "\n",
    "\n",
    "# Adapted From:\n",
    "# Author: Open AI\n",
    "# Date: 2024\n",
    "# Source: ChatGPT [online] \"https://chat.openai.com/\""
   ]
  },
  {
   "cell_type": "code",
   "execution_count": 7,
   "id": "c237921d",
   "metadata": {},
   "outputs": [
    {
     "data": {
      "application/vnd.jupyter.widget-view+json": {
       "model_id": "2fd99991b0904305880d4af6c4e10d9f",
       "version_major": 2,
       "version_minor": 0
      },
      "text/plain": [
       "IntSlider(value=5, description='Goals:', max=50)"
      ]
     },
     "metadata": {},
     "output_type": "display_data"
    },
    {
     "data": {
      "application/vnd.jupyter.widget-view+json": {
       "model_id": "66bfeb627752426fb86f42e1232171eb",
       "version_major": 2,
       "version_minor": 0
      },
      "text/plain": [
       "IntSlider(value=5, description='Assists:', max=30)"
      ]
     },
     "metadata": {},
     "output_type": "display_data"
    },
    {
     "data": {
      "application/vnd.jupyter.widget-view+json": {
       "model_id": "fb746dd6d4db49ed9c76603415a24ea2",
       "version_major": 2,
       "version_minor": 0
      },
      "text/plain": [
       "IntSlider(value=10, description='Tackles_Tkl:')"
      ]
     },
     "metadata": {},
     "output_type": "display_data"
    },
    {
     "data": {
      "application/vnd.jupyter.widget-view+json": {
       "model_id": "eb678b2937584229b9005bd128ba94d6",
       "version_major": 2,
       "version_minor": 0
      },
      "text/plain": [
       "IntSlider(value=25, description='Age:', max=50, min=16)"
      ]
     },
     "metadata": {},
     "output_type": "display_data"
    },
    {
     "data": {
      "application/vnd.jupyter.widget-view+json": {
       "model_id": "03be00231af04d208cab6cd0c16fca5d",
       "version_major": 2,
       "version_minor": 0
      },
      "text/plain": [
       "IntSlider(value=5, description='Expected_npxG:', max=50)"
      ]
     },
     "metadata": {},
     "output_type": "display_data"
    },
    {
     "data": {
      "application/vnd.jupyter.widget-view+json": {
       "model_id": "fe58b53d193f4fdc978a3953421ac8b3",
       "version_major": 2,
       "version_minor": 0
      },
      "text/plain": [
       "IntSlider(value=25, description='Progression_PrgC:', max=200)"
      ]
     },
     "metadata": {},
     "output_type": "display_data"
    },
    {
     "data": {
      "application/vnd.jupyter.widget-view+json": {
       "model_id": "1556a515607047d4b8ecf8fa0f148c38",
       "version_major": 2,
       "version_minor": 0
      },
      "text/plain": [
       "IntSlider(value=25, description='Progression_PrgP:', max=200)"
      ]
     },
     "metadata": {},
     "output_type": "display_data"
    },
    {
     "data": {
      "application/vnd.jupyter.widget-view+json": {
       "model_id": "f486472f26ad4eff9a4cfdf6b690e515",
       "version_major": 2,
       "version_minor": 0
      },
      "text/plain": [
       "IntSlider(value=5, description='Usage_Rate_Per:', max=50)"
      ]
     },
     "metadata": {},
     "output_type": "display_data"
    },
    {
     "data": {
      "application/vnd.jupyter.widget-view+json": {
       "model_id": "32ad045583744a2da81e27cfb824d7ac",
       "version_major": 2,
       "version_minor": 0
      },
      "text/plain": [
       "IntSlider(value=500, description='Score:', max=5000)"
      ]
     },
     "metadata": {},
     "output_type": "display_data"
    },
    {
     "data": {
      "application/vnd.jupyter.widget-view+json": {
       "model_id": "66e8a1c9e6ca4b7f94b14ea87977f8c7",
       "version_major": 2,
       "version_minor": 0
      },
      "text/plain": [
       "Output()"
      ]
     },
     "metadata": {},
     "output_type": "display_data"
    }
   ],
   "source": [
    "# Displays the widget output and the sliders for midfielders\n",
    "display(Goals_slider, assists_slider, Tackles_slider, Age_slider, npxG_slider, Progression_PrgC_slider, Progression_PrgP_slider, Usage_Rate_slider, Score_slider, mid_inter)\n",
    "\n",
    "# Adapted From:\n",
    "# Title: Widget List\n",
    "# Author: Jupyter Widgets\n",
    "# Date: No date\n",
    "# Code Version: 7.6.2\n",
    "# Source: \"https://ipywidgets.readthedocs.io/en/7.6.2/examples/Using%20Interact.html\"\n",
    "\n",
    "# Adapted From:\n",
    "# Title: Widget List\n",
    "# Author: Jupyter Widgets\n",
    "# Date: No date\n",
    "# Code Version: 8.1.3\n",
    "# Source: \"https://ipywidgets.readthedocs.io/en/latest/examples/Using%20Interact.html\"\n",
    "\n",
    "# Adapted From:\n",
    "# Title: ipywidgets: Interactive Widgets in Jupyter Notebooks (Complete Guide)\n",
    "# Author: Sunny Solanki\n",
    "# Date: 2022\n",
    "# Code Version: N/A\n",
    "# Source: \"https://coderzcolumn.com/tutorials/python/interactive-widgets-in-jupyter-notebook-using-ipywidgets\"\n",
    "\n",
    "\n",
    "# Adapted From:\n",
    "# Author: Open AI\n",
    "# Date: 2024\n",
    "# Source: ChatGPT [online] \"https://chat.openai.com/\""
   ]
  },
  {
   "cell_type": "code",
   "execution_count": 8,
   "id": "7e6aa4d4",
   "metadata": {},
   "outputs": [],
   "source": [
    "# Attackers\n",
    "# This function filters the Attacker Dataset based on the slider values made by the widgets\n",
    "# This will use the sliders for the outfield players and apply them to the attackers \n",
    "def filter_players_att(Performance_Gls_att, Performance_Ast_att, Tackles_Tkl_att, Age_att, Expected_npxG_att, \n",
    "                       Progression_PrgC_att, Progression_PrgP_att, Usage_Rate_Per_att, Score_att, Market_Value_in_Eur):\n",
    "    scout_interface_att = (att_df[(att_df['Goals'] >= Performance_Gls_att) & \n",
    "                          (att_df['Assists'] >= Performance_Ast_att) & \n",
    "                          (att_df['Tackles_Tkl'] >= Tackles_Tkl_att) &\n",
    "                          (att_df['Age'] <= Age_att) &\n",
    "                          (att_df['Expected_npxG'] >= Expected_npxG_att) &\n",
    "                          (att_df['Progression_PrgC'] >= Progression_PrgC_att) &\n",
    "                          (att_df['Progression_PrgP'] >= Progression_PrgP_att) &\n",
    "                          (att_df['Usage_Rate_Per'] >= Usage_Rate_Per_att) &\n",
    "                          (att_df['Score'] >= Score_att) &\n",
    "                          (att_df['Market_Value_in_Eur'] <= Market_Value_in_Eur)]\n",
    "                  )\n",
    "    display(scout_interface_att)\n",
    "\n",
    "    \n",
    "# >= equal to or more\n",
    "# <= equal to or less\n",
    "\n",
    "# Adapted From:\n",
    "# Title: Widget List\n",
    "# Author: Jupyter Widgets\n",
    "# Date: No date\n",
    "# Code Version: 7.6.2\n",
    "# Source: \"https://ipywidgets.readthedocs.io/en/7.6.2/examples/Using%20Interact.html\"\n",
    "\n",
    "# Adapted From:\n",
    "# Title: Widget List\n",
    "# Author: Jupyter Widgets\n",
    "# Date: No date\n",
    "# Code Version: 8.1.3\n",
    "# Source: \"https://ipywidgets.readthedocs.io/en/latest/examples/Using%20Interact.html\"\n",
    "\n",
    "# Adapted From:\n",
    "# Title: ipywidgets: Interactive Widgets in Jupyter Notebooks (Complete Guide)\n",
    "# Author: Sunny Solanki\n",
    "# Date: 2022\n",
    "# Code Version: N/A\n",
    "# Source: \"https://coderzcolumn.com/tutorials/python/interactive-widgets-in-jupyter-notebook-using-ipywidgets\"\n",
    "\n",
    "# Adapted From:\n",
    "# Author: Open AI\n",
    "# Date: 2024\n",
    "# Source: ChatGPT [online] \"https://chat.openai.com/\""
   ]
  },
  {
   "cell_type": "code",
   "execution_count": 9,
   "id": "fdb8c8b7",
   "metadata": {},
   "outputs": [],
   "source": [
    "# Interactive output widget is made for the attacking players\n",
    "# 'interactive_output' function connects the sliders with 'filter_players_att' function\n",
    "out_att = widgets.interactive_output(filter_players_att, {'Performance_Gls_att': Goals_slider, 'Performance_Ast_att': assists_slider, \n",
    "                                                  'Tackles_Tkl_att': Tackles_slider,'Age_att': Age_slider, \n",
    "                                                  'Expected_npxG_att': npxG_slider, 'Progression_PrgC_att': Progression_PrgC_slider,\n",
    "                                                  'Progression_PrgP_att': Progression_PrgP_slider, 'Usage_Rate_Per_att': Usage_Rate_slider,\n",
    "                                                  'Score_att': Score_slider, 'Market_Value_in_Eur': market_value_in_eur_slider})\n",
    "\n",
    "# Adapted From:\n",
    "# Title: Widget List\n",
    "# Author: Jupyter Widgets\n",
    "# Date: No date\n",
    "# Code Version: 7.6.2\n",
    "# Source: \"https://ipywidgets.readthedocs.io/en/7.6.2/examples/Using%20Interact.html\"\n",
    "\n",
    "# Adapted From:\n",
    "# Title: Widget List\n",
    "# Author: Jupyter Widgets\n",
    "# Date: No date\n",
    "# Code Version: 8.1.3\n",
    "# Source: \"https://ipywidgets.readthedocs.io/en/latest/examples/Using%20Interact.html\"\n",
    "\n",
    "# Adapted From:\n",
    "# Title: ipywidgets: Interactive Widgets in Jupyter Notebooks (Complete Guide)\n",
    "# Author: Sunny Solanki\n",
    "# Date: 2022\n",
    "# Code Version: N/A\n",
    "# Source: \"https://coderzcolumn.com/tutorials/python/interactive-widgets-in-jupyter-notebook-using-ipywidgets\"\n",
    "\n",
    "# Adapted From:\n",
    "# Author: Open AI\n",
    "# Date: 2024\n",
    "# Source: ChatGPT [online] \"https://chat.openai.com/\""
   ]
  },
  {
   "cell_type": "code",
   "execution_count": 10,
   "id": "f02a82f1",
   "metadata": {},
   "outputs": [
    {
     "data": {
      "application/vnd.jupyter.widget-view+json": {
       "model_id": "2fd99991b0904305880d4af6c4e10d9f",
       "version_major": 2,
       "version_minor": 0
      },
      "text/plain": [
       "IntSlider(value=5, description='Goals:', max=50)"
      ]
     },
     "metadata": {},
     "output_type": "display_data"
    },
    {
     "data": {
      "application/vnd.jupyter.widget-view+json": {
       "model_id": "66bfeb627752426fb86f42e1232171eb",
       "version_major": 2,
       "version_minor": 0
      },
      "text/plain": [
       "IntSlider(value=5, description='Assists:', max=30)"
      ]
     },
     "metadata": {},
     "output_type": "display_data"
    },
    {
     "data": {
      "application/vnd.jupyter.widget-view+json": {
       "model_id": "fb746dd6d4db49ed9c76603415a24ea2",
       "version_major": 2,
       "version_minor": 0
      },
      "text/plain": [
       "IntSlider(value=10, description='Tackles_Tkl:')"
      ]
     },
     "metadata": {},
     "output_type": "display_data"
    },
    {
     "data": {
      "application/vnd.jupyter.widget-view+json": {
       "model_id": "eb678b2937584229b9005bd128ba94d6",
       "version_major": 2,
       "version_minor": 0
      },
      "text/plain": [
       "IntSlider(value=25, description='Age:', max=50, min=16)"
      ]
     },
     "metadata": {},
     "output_type": "display_data"
    },
    {
     "data": {
      "application/vnd.jupyter.widget-view+json": {
       "model_id": "03be00231af04d208cab6cd0c16fca5d",
       "version_major": 2,
       "version_minor": 0
      },
      "text/plain": [
       "IntSlider(value=5, description='Expected_npxG:', max=50)"
      ]
     },
     "metadata": {},
     "output_type": "display_data"
    },
    {
     "data": {
      "application/vnd.jupyter.widget-view+json": {
       "model_id": "fe58b53d193f4fdc978a3953421ac8b3",
       "version_major": 2,
       "version_minor": 0
      },
      "text/plain": [
       "IntSlider(value=25, description='Progression_PrgC:', max=200)"
      ]
     },
     "metadata": {},
     "output_type": "display_data"
    },
    {
     "data": {
      "application/vnd.jupyter.widget-view+json": {
       "model_id": "1556a515607047d4b8ecf8fa0f148c38",
       "version_major": 2,
       "version_minor": 0
      },
      "text/plain": [
       "IntSlider(value=25, description='Progression_PrgP:', max=200)"
      ]
     },
     "metadata": {},
     "output_type": "display_data"
    },
    {
     "data": {
      "application/vnd.jupyter.widget-view+json": {
       "model_id": "f486472f26ad4eff9a4cfdf6b690e515",
       "version_major": 2,
       "version_minor": 0
      },
      "text/plain": [
       "IntSlider(value=5, description='Usage_Rate_Per:', max=50)"
      ]
     },
     "metadata": {},
     "output_type": "display_data"
    },
    {
     "data": {
      "application/vnd.jupyter.widget-view+json": {
       "model_id": "32ad045583744a2da81e27cfb824d7ac",
       "version_major": 2,
       "version_minor": 0
      },
      "text/plain": [
       "IntSlider(value=500, description='Score:', max=5000)"
      ]
     },
     "metadata": {},
     "output_type": "display_data"
    },
    {
     "data": {
      "application/vnd.jupyter.widget-view+json": {
       "model_id": "b8a11dd4f9f249ac87e528b39a3b9178",
       "version_major": 2,
       "version_minor": 0
      },
      "text/plain": [
       "IntSlider(value=50000000, description='market_value_in_eur:', max=200000000, step=100000)"
      ]
     },
     "metadata": {},
     "output_type": "display_data"
    },
    {
     "data": {
      "application/vnd.jupyter.widget-view+json": {
       "model_id": "7d9ef361e34440c78938251095477b1e",
       "version_major": 2,
       "version_minor": 0
      },
      "text/plain": [
       "Output()"
      ]
     },
     "metadata": {},
     "output_type": "display_data"
    }
   ],
   "source": [
    "# Displays the widget output and the sliders for attacking players\n",
    "display(Goals_slider, assists_slider, Tackles_slider, Age_slider, npxG_slider, Progression_PrgC_slider, Progression_PrgP_slider, Usage_Rate_slider, Score_slider, market_value_in_eur_slider, out_att)\n",
    "\n",
    "# Adapted From:\n",
    "# Title: Widget List\n",
    "# Author: Jupyter Widgets\n",
    "# Date: No date\n",
    "# Code Version: 7.6.2\n",
    "# Source: \"https://ipywidgets.readthedocs.io/en/7.6.2/examples/Using%20Interact.html\"\n",
    "\n",
    "# Adapted From:\n",
    "# Title: Widget List\n",
    "# Author: Jupyter Widgets\n",
    "# Date: No date\n",
    "# Code Version: 8.1.3\n",
    "# Source: \"https://ipywidgets.readthedocs.io/en/latest/examples/Using%20Interact.html\"\n",
    "\n",
    "# Adapted From:\n",
    "# Title: ipywidgets: Interactive Widgets in Jupyter Notebooks (Complete Guide)\n",
    "# Author: Sunny Solanki\n",
    "# Date: 2022\n",
    "# Code Version: N/A\n",
    "# Source: \"https://coderzcolumn.com/tutorials/python/interactive-widgets-in-jupyter-notebook-using-ipywidgets\"\n",
    "\n",
    "# Adapted From:\n",
    "# Author: Open AI\n",
    "# Date: 2024\n",
    "# Source: ChatGPT [online] \"https://chat.openai.com/\""
   ]
  },
  {
   "cell_type": "code",
   "execution_count": 11,
   "id": "6e875405",
   "metadata": {},
   "outputs": [],
   "source": [
    "# This function filters the Dataset based on the slider values made by the widgets\n",
    "# This will use the sliders for the outfield players and apply them to the defenders \n",
    "def filt_pla_def(Performance_Gls_def, Performance_Ast_def, Tackles_Tkl_def, Age_def, Expected_npxG_def, \n",
    "                 Progression_PrgC_def, Progression_PrgP_def, Usage_Rate_Per_def, Score_def, market_value_in_eur_def,\n",
    "                 Tackles_TklW_def, Int_def, Blocks_def, Clr_def, Challenges_Att_def, Challenges_Tkl_per_def,\n",
    "                 Challenges_Lost_def, Performance_CrdY_def, Performance_CrdR_def):\n",
    "    scout_interface_def = (def_df[(def_df['Goals'] >= Performance_Gls_def) & \n",
    "                          (def_df['Assists'] >= Performance_Ast_def) & \n",
    "                          (def_df['Tackles_Tkl'] >= Tackles_Tkl_def) &\n",
    "                          (def_df['Age'] <= Age_def) &\n",
    "                          (def_df['Expected_npxG'] >= Expected_npxG_def) &\n",
    "                          (def_df['Progression_PrgC'] >= Progression_PrgC_def) &\n",
    "                          (def_df['Progression_PrgP'] >= Progression_PrgP_def) &\n",
    "                          (def_df['Usage_Rate_Per'] >= Usage_Rate_Per_def) &\n",
    "                          (def_df['Score'] >= Score_def) &\n",
    "                          (def_df['Market_Value_in_Eur'] <= market_value_in_eur_def) &\n",
    "                          (def_df['Tackles_TklW'] >= Tackles_TklW_def) &\n",
    "                          (def_df['Interceptions'] >= Int_def) &\n",
    "                          (def_df['Blocks'] >= Blocks_def) &  \n",
    "                          (def_df['Clearances'] >= Clr_def) &\n",
    "                          (def_df['Dribblers_Challenged'] >= Challenges_Att_def) &\n",
    "                          (def_df['Per_Dribblers_Tkl_Succ'] >= Challenges_Tkl_per_def) &\n",
    "                          (def_df['Challenges_Lost'] >= Challenges_Lost_def) &\n",
    "                          (def_df['Performance_CrdY'] >= Performance_CrdY_def) & \n",
    "                          (def_df['Performance_CrdR'] >= Performance_CrdR_def)]\n",
    "    \n",
    "                  )\n",
    "    display(scout_interface_def)\n",
    "    \n",
    "    \n",
    "# >= equal to or more\n",
    "# <= equal to or less\n",
    "\n",
    "# Adapted From:\n",
    "# Title: Widget List\n",
    "# Author: Jupyter Widgets\n",
    "# Date: No date\n",
    "# Code Version: 7.6.2\n",
    "# Source: \"https://ipywidgets.readthedocs.io/en/7.6.2/examples/Using%20Interact.html\"\n",
    "\n",
    "# Adapted From:\n",
    "# Title: Widget List\n",
    "# Author: Jupyter Widgets\n",
    "# Date: No date\n",
    "# Code Version: 8.1.3\n",
    "# Source: \"https://ipywidgets.readthedocs.io/en/latest/examples/Using%20Interact.html\"\n",
    "\n",
    "# Adapted From:\n",
    "# Title: ipywidgets: Interactive Widgets in Jupyter Notebooks (Complete Guide)\n",
    "# Author: Sunny Solanki\n",
    "# Date: 2022\n",
    "# Code Version: N/A\n",
    "# Source: \"https://coderzcolumn.com/tutorials/python/interactive-widgets-in-jupyter-notebook-using-ipywidgets\"\n",
    "\n",
    "# Adapted From:\n",
    "# Author: Open AI\n",
    "# Date: 2024\n",
    "# Source: ChatGPT [online] \"https://chat.openai.com/\""
   ]
  },
  {
   "cell_type": "code",
   "execution_count": 12,
   "id": "01bd2851",
   "metadata": {},
   "outputs": [],
   "source": [
    "# Interactive output widget is made for the defenders\n",
    "# 'interactive_output' function connects the sliders with 'filter_players_def' function\n",
    "out_def = widgets.interactive_output(filt_pla_def, {'Performance_Gls_def': Goals_slider, 'Performance_Ast_def': assists_slider, \n",
    "                                                  'Tackles_Tkl_def': Tackles_slider,'Age_def': Age_slider, \n",
    "                                                  'Expected_npxG_def': npxG_slider, 'Progression_PrgC_def': Progression_PrgC_slider,\n",
    "                                                  'Progression_PrgP_def': Progression_PrgP_slider, 'Usage_Rate_Per_def': Usage_Rate_slider,\n",
    "                                                  'Score_def': Score_slider, 'market_value_in_eur_def': market_value_in_eur_slider,\n",
    "                                                  'Tackles_TklW_def':Tackles_TklW_slider, 'Int_def': Int_slider,\n",
    "                                                  'Blocks_def':Blocks_slider, 'Clr_def':Clr_slider,\n",
    "                                                   'Tackles_TklW_def':Tackles_TklW_slider,\n",
    "                                                  'Challenges_Att_def':Challenges_Att_slider, 'Challenges_Tkl_per_def':Challenges_Tkl_per_slider,\n",
    "                                                   'Challenges_Lost_def':Challenges_Lost_slider, 'Performance_CrdY_def':Performance_CrdY_slider,\n",
    "                                                   'Performance_CrdR_def': Performance_CrdR_slider})\n",
    "    \n",
    "# Adapted From:\n",
    "# Title: Widget List\n",
    "# Author: Jupyter Widgets\n",
    "# Date: No date\n",
    "# Code Version: 7.6.2\n",
    "# Source: \"https://ipywidgets.readthedocs.io/en/7.6.2/examples/Using%20Interact.html\"\n",
    "\n",
    "# Adapted From:\n",
    "# Title: Widget List\n",
    "# Author: Jupyter Widgets\n",
    "# Date: No date\n",
    "# Code Version: 8.1.3\n",
    "# Source: \"https://ipywidgets.readthedocs.io/en/latest/examples/Using%20Interact.html\"\n",
    "\n",
    "# Adapted From:\n",
    "# Title: ipywidgets: Interactive Widgets in Jupyter Notebooks (Complete Guide)\n",
    "# Author: Sunny Solanki\n",
    "# Date: 2022\n",
    "# Code Version: N/A\n",
    "# Source: \"https://coderzcolumn.com/tutorials/python/interactive-widgets-in-jupyter-notebook-using-ipywidgets\"\n",
    "\n",
    "# Adapted From:\n",
    "# Author: Open AI\n",
    "# Date: 2024\n",
    "# Source: ChatGPT [online] \"https://chat.openai.com/\""
   ]
  },
  {
   "cell_type": "code",
   "execution_count": 13,
   "id": "76941469",
   "metadata": {
    "scrolled": false
   },
   "outputs": [
    {
     "data": {
      "application/vnd.jupyter.widget-view+json": {
       "model_id": "2fd99991b0904305880d4af6c4e10d9f",
       "version_major": 2,
       "version_minor": 0
      },
      "text/plain": [
       "IntSlider(value=5, description='Goals:', max=50)"
      ]
     },
     "metadata": {},
     "output_type": "display_data"
    },
    {
     "data": {
      "application/vnd.jupyter.widget-view+json": {
       "model_id": "66bfeb627752426fb86f42e1232171eb",
       "version_major": 2,
       "version_minor": 0
      },
      "text/plain": [
       "IntSlider(value=5, description='Assists:', max=30)"
      ]
     },
     "metadata": {},
     "output_type": "display_data"
    },
    {
     "data": {
      "application/vnd.jupyter.widget-view+json": {
       "model_id": "fb746dd6d4db49ed9c76603415a24ea2",
       "version_major": 2,
       "version_minor": 0
      },
      "text/plain": [
       "IntSlider(value=10, description='Tackles_Tkl:')"
      ]
     },
     "metadata": {},
     "output_type": "display_data"
    },
    {
     "data": {
      "application/vnd.jupyter.widget-view+json": {
       "model_id": "eb678b2937584229b9005bd128ba94d6",
       "version_major": 2,
       "version_minor": 0
      },
      "text/plain": [
       "IntSlider(value=25, description='Age:', max=50, min=16)"
      ]
     },
     "metadata": {},
     "output_type": "display_data"
    },
    {
     "data": {
      "application/vnd.jupyter.widget-view+json": {
       "model_id": "03be00231af04d208cab6cd0c16fca5d",
       "version_major": 2,
       "version_minor": 0
      },
      "text/plain": [
       "IntSlider(value=5, description='Expected_npxG:', max=50)"
      ]
     },
     "metadata": {},
     "output_type": "display_data"
    },
    {
     "data": {
      "application/vnd.jupyter.widget-view+json": {
       "model_id": "fe58b53d193f4fdc978a3953421ac8b3",
       "version_major": 2,
       "version_minor": 0
      },
      "text/plain": [
       "IntSlider(value=25, description='Progression_PrgC:', max=200)"
      ]
     },
     "metadata": {},
     "output_type": "display_data"
    },
    {
     "data": {
      "application/vnd.jupyter.widget-view+json": {
       "model_id": "1556a515607047d4b8ecf8fa0f148c38",
       "version_major": 2,
       "version_minor": 0
      },
      "text/plain": [
       "IntSlider(value=25, description='Progression_PrgP:', max=200)"
      ]
     },
     "metadata": {},
     "output_type": "display_data"
    },
    {
     "data": {
      "application/vnd.jupyter.widget-view+json": {
       "model_id": "f486472f26ad4eff9a4cfdf6b690e515",
       "version_major": 2,
       "version_minor": 0
      },
      "text/plain": [
       "IntSlider(value=5, description='Usage_Rate_Per:', max=50)"
      ]
     },
     "metadata": {},
     "output_type": "display_data"
    },
    {
     "data": {
      "application/vnd.jupyter.widget-view+json": {
       "model_id": "32ad045583744a2da81e27cfb824d7ac",
       "version_major": 2,
       "version_minor": 0
      },
      "text/plain": [
       "IntSlider(value=500, description='Score:', max=5000)"
      ]
     },
     "metadata": {},
     "output_type": "display_data"
    },
    {
     "data": {
      "application/vnd.jupyter.widget-view+json": {
       "model_id": "b8a11dd4f9f249ac87e528b39a3b9178",
       "version_major": 2,
       "version_minor": 0
      },
      "text/plain": [
       "IntSlider(value=50000000, description='market_value_in_eur:', max=200000000, step=100000)"
      ]
     },
     "metadata": {},
     "output_type": "display_data"
    },
    {
     "data": {
      "application/vnd.jupyter.widget-view+json": {
       "model_id": "e463311beddc47a2b2ea72ccd0983118",
       "version_major": 2,
       "version_minor": 0
      },
      "text/plain": [
       "IntSlider(value=5, description='Tackles_TklW:', max=50)"
      ]
     },
     "metadata": {},
     "output_type": "display_data"
    },
    {
     "data": {
      "application/vnd.jupyter.widget-view+json": {
       "model_id": "42fb928bcf1b4238a50ee5eb734b900c",
       "version_major": 2,
       "version_minor": 0
      },
      "text/plain": [
       "IntSlider(value=5, description='Int:', max=50)"
      ]
     },
     "metadata": {},
     "output_type": "display_data"
    },
    {
     "data": {
      "application/vnd.jupyter.widget-view+json": {
       "model_id": "cf7a2c34dd4b4646b6f62a489c48fd95",
       "version_major": 2,
       "version_minor": 0
      },
      "text/plain": [
       "IntSlider(value=5, description='Blocks:', max=50)"
      ]
     },
     "metadata": {},
     "output_type": "display_data"
    },
    {
     "data": {
      "application/vnd.jupyter.widget-view+json": {
       "model_id": "6ead7baa78664ec6a1b20509c38b22cd",
       "version_major": 2,
       "version_minor": 0
      },
      "text/plain": [
       "IntSlider(value=5, description='Clr:', max=50)"
      ]
     },
     "metadata": {},
     "output_type": "display_data"
    },
    {
     "data": {
      "application/vnd.jupyter.widget-view+json": {
       "model_id": "b4de7949002546c9adde5b9ec9f22faf",
       "version_major": 2,
       "version_minor": 0
      },
      "text/plain": [
       "IntSlider(value=5, description='Challenges_Att:', max=50)"
      ]
     },
     "metadata": {},
     "output_type": "display_data"
    },
    {
     "data": {
      "application/vnd.jupyter.widget-view+json": {
       "model_id": "be00374e95964dfdbb3c3ceb248eacc2",
       "version_major": 2,
       "version_minor": 0
      },
      "text/plain": [
       "IntSlider(value=5, description='Challenges_Tkl_per:')"
      ]
     },
     "metadata": {},
     "output_type": "display_data"
    },
    {
     "data": {
      "application/vnd.jupyter.widget-view+json": {
       "model_id": "8107eb08810e4499af94cd79046858f0",
       "version_major": 2,
       "version_minor": 0
      },
      "text/plain": [
       "IntSlider(value=5, description='Challenges_Lost:', max=50)"
      ]
     },
     "metadata": {},
     "output_type": "display_data"
    },
    {
     "data": {
      "application/vnd.jupyter.widget-view+json": {
       "model_id": "00eef891318948f8adf7b2c03f426f0b",
       "version_major": 2,
       "version_minor": 0
      },
      "text/plain": [
       "IntSlider(value=0, description='Performance_CrdY:', max=50)"
      ]
     },
     "metadata": {},
     "output_type": "display_data"
    },
    {
     "data": {
      "application/vnd.jupyter.widget-view+json": {
       "model_id": "c748972ada1c48f3ba449626d2c4abe3",
       "version_major": 2,
       "version_minor": 0
      },
      "text/plain": [
       "IntSlider(value=0, description='Performance_CrdR:', max=50)"
      ]
     },
     "metadata": {},
     "output_type": "display_data"
    },
    {
     "data": {
      "application/vnd.jupyter.widget-view+json": {
       "model_id": "55a6889255804e71b5397fb70b7c088e",
       "version_major": 2,
       "version_minor": 0
      },
      "text/plain": [
       "Output()"
      ]
     },
     "metadata": {},
     "output_type": "display_data"
    }
   ],
   "source": [
    "# Displays the widget output and the sliders for defenders\n",
    "display(Goals_slider, assists_slider, Tackles_slider, Age_slider, npxG_slider, \n",
    "        Progression_PrgC_slider, Progression_PrgP_slider, Usage_Rate_slider, Score_slider, \n",
    "        market_value_in_eur_slider, Tackles_TklW_slider, Int_slider, Blocks_slider,\n",
    "        Clr_slider, Challenges_Att_slider, Challenges_Tkl_per_slider, Challenges_Lost_slider,\n",
    "        Performance_CrdY_slider, Performance_CrdR_slider, out_def)\n",
    "\n",
    "# Adapted From:\n",
    "# Title: Widget List\n",
    "# Author: Jupyter Widgets\n",
    "# Date: No date\n",
    "# Code Version: 7.6.2\n",
    "# Source: \"https://ipywidgets.readthedocs.io/en/7.6.2/examples/Using%20Interact.html\"\n",
    "\n",
    "# Adapted From:\n",
    "# Title: Widget List\n",
    "# Author: Jupyter Widgets\n",
    "# Date: No date\n",
    "# Code Version: 8.1.3\n",
    "# Source: \"https://ipywidgets.readthedocs.io/en/latest/examples/Using%20Interact.html\"\n",
    "\n",
    "# Adapted From:\n",
    "# Title: ipywidgets: Interactive Widgets in Jupyter Notebooks (Complete Guide)\n",
    "# Author: Sunny Solanki\n",
    "# Date: 2022\n",
    "# Code Version: N/A\n",
    "# Source: \"https://coderzcolumn.com/tutorials/python/interactive-widgets-in-jupyter-notebook-using-ipywidgets\"\n",
    "\n",
    "# Adapted From:\n",
    "# Author: Open AI\n",
    "# Date: 2024\n",
    "# Source: ChatGPT [online] \"https://chat.openai.com/\""
   ]
  },
  {
   "cell_type": "code",
   "execution_count": 14,
   "id": "9bcc07fa",
   "metadata": {},
   "outputs": [
    {
     "data": {
      "text/plain": [
       "Index(['Squad', 'Player', 'Country_of_Birth', 'Country_of_Citizenship', 'DOB',\n",
       "       'Position', 'Foot', 'Height_in_CM', 'Contract_Expiration_Date',\n",
       "       'Agent_Name', 'Current_Club_Name', 'Market_Value_in_Eur',\n",
       "       'Highest_Market_Value_in_Eur', 'Nation', 'Age', 'PSxG_minus_GA',\n",
       "       'PSxG_minus_GA_90', 'Long_Pass_Acc_per', 'Passes_Attempted',\n",
       "       'Throws_Attemp', 'Per_Passes_Launched', 'Avg_Pass_Length',\n",
       "       'Goal_Kicks_Att', 'Per_Goal_Kicks_Launch', 'Avg_Length_Goal_Kick',\n",
       "       'Crosses_Faced', 'Crosses_Stp', 'Crosses_Stp_Per', 'Number_of_Sweep',\n",
       "       'Number_of_Sweep_per_90', 'Sweeper_Avg_Dist', 'Comp',\n",
       "       'Performance_Save_Per', 'Penalties_saved', 'Penalty Kicks PKm',\n",
       "       'Penalty_Kick_Save_Per', 'Rk', 'Touches', 'Usage_Rate_Per', 'Score',\n",
       "       'Predicted_Performance', 'Predicted_Value', 'Change_in_Value'],\n",
       "      dtype='object')"
      ]
     },
     "execution_count": 14,
     "metadata": {},
     "output_type": "execute_result"
    }
   ],
   "source": [
    "GK_df.columns"
   ]
  },
  {
   "cell_type": "code",
   "execution_count": 15,
   "id": "a41eb7c5",
   "metadata": {},
   "outputs": [],
   "source": [
    "# Goalkeepers\n",
    "# This function filters the Dataset based on the slider values made by the widgets\n",
    "# This will use the sliders for Goalkeepers\n",
    "def filt_pla_GK(Age_GK, Usage_Rate_Per_GK, Score_GK, Performance_Save_per_GK, Penalties_saved_GK, \n",
    "                PSxG_minus_GA_GK, Crosses_Stp_per_GK, Number_of_Sweep_GK, Long_Pass_Acc_per_GK, market_value_in_eur_GK):\n",
    "    scout_interface_GK = (GK_df[(GK_df['Performance_Save_Per'] >= Performance_Save_per_GK) & \n",
    "                          (GK_df['Penalties_saved'] >= Penalties_saved_GK) & \n",
    "                          (GK_df['PSxG_minus_GA'] >= PSxG_minus_GA_GK) &\n",
    "                          (GK_df['Age'] <= Age_GK) &\n",
    "                          (GK_df['Crosses_Stp_Per'] >= Crosses_Stp_per_GK) &\n",
    "                          (GK_df['Number_of_Sweep'] >= Number_of_Sweep_GK) &\n",
    "                          (GK_df['Long_Pass_Acc_per'] >= Long_Pass_Acc_per_GK) &\n",
    "                          (GK_df['Score'] >= Score_GK) &\n",
    "                          (GK_df['Market_Value_in_Eur'] >= market_value_in_eur_GK)]\n",
    "                  )\n",
    "    display(scout_interface_GK)\n",
    "    \n",
    "# >= equal to or more\n",
    "# <= equal to or less\n",
    "\n",
    "# Adapted From:\n",
    "# Title: Widget List\n",
    "# Author: Jupyter Widgets\n",
    "# Date: No date\n",
    "# Code Version: 7.6.2\n",
    "# Source: \"https://ipywidgets.readthedocs.io/en/7.6.2/examples/Using%20Interact.html\"\n",
    "\n",
    "# Adapted From:\n",
    "# Title: Widget List\n",
    "# Author: Jupyter Widgets\n",
    "# Date: No date\n",
    "# Code Version: 8.1.3\n",
    "# Source: \"https://ipywidgets.readthedocs.io/en/latest/examples/Using%20Interact.html\"\n",
    "\n",
    "# Adapted From:\n",
    "# Title: ipywidgets: Interactive Widgets in Jupyter Notebooks (Complete Guide)\n",
    "# Author: Sunny Solanki\n",
    "# Date: 2022\n",
    "# Code Version: N/A\n",
    "# Source: \"https://coderzcolumn.com/tutorials/python/interactive-widgets-in-jupyter-notebook-using-ipywidgets\"\n",
    "\n",
    "# Adapted From:\n",
    "# Author: Open AI\n",
    "# Date: 2024\n",
    "# Source: ChatGPT [online] \"https://chat.openai.com/\""
   ]
  },
  {
   "cell_type": "code",
   "execution_count": 16,
   "id": "7f3e2e09",
   "metadata": {},
   "outputs": [],
   "source": [
    "# Interactive output widget is made for Goalkeepers\n",
    "# 'interactive_output' function connects the sliders with 'filter_players_GK' function\n",
    "out_GK = widgets.interactive_output(filt_pla_GK, {'Age_GK': Age_slider, 'Usage_Rate_Per_GK': Usage_Rate_slider,\n",
    "                                                  'Score_GK': Score_slider, 'market_value_in_eur_GK': market_value_in_eur_slider,\n",
    "                                                   'Performance_Save_per_GK':Performance_Save_per_slider,\n",
    "                                                   'Penalties_saved_GK':Penalties_saved_slider, 'PSxG_minus_GA_GK':PSxG_minus_GA_slider,\n",
    "                                                   'Crosses_Stp_per_GK':Crosses_Stp_per_slider, 'Number_of_Sweep_GK':Number_of_Sweep_slider,\n",
    "                                                   'Long_Pass_Acc_per_GK':Long_Pass_Acc_per_slider})\n",
    "\n",
    "# Adapted From:\n",
    "# Title: Widget List\n",
    "# Author: Jupyter Widgets\n",
    "# Date: No date\n",
    "# Code Version: 7.6.2\n",
    "# Source: \"https://ipywidgets.readthedocs.io/en/7.6.2/examples/Using%20Interact.html\"\n",
    "\n",
    "# Adapted From:\n",
    "# Title: Widget List\n",
    "# Author: Jupyter Widgets\n",
    "# Date: No date\n",
    "# Code Version: 8.1.3\n",
    "# Source: \"https://ipywidgets.readthedocs.io/en/latest/examples/Using%20Interact.html\"\n",
    "\n",
    "# Adapted From:\n",
    "# Title: ipywidgets: Interactive Widgets in Jupyter Notebooks (Complete Guide)\n",
    "# Author: Sunny Solanki\n",
    "# Date: 2022\n",
    "# Code Version: N/A\n",
    "# Source: \"https://coderzcolumn.com/tutorials/python/interactive-widgets-in-jupyter-notebook-using-ipywidgets\"\n",
    "\n",
    "# Adapted From:\n",
    "# Author: Open AI\n",
    "# Date: 2024\n",
    "# Source: ChatGPT [online] \"https://chat.openai.com/\""
   ]
  },
  {
   "cell_type": "code",
   "execution_count": 17,
   "id": "69166b9f",
   "metadata": {},
   "outputs": [
    {
     "data": {
      "application/vnd.jupyter.widget-view+json": {
       "model_id": "eb678b2937584229b9005bd128ba94d6",
       "version_major": 2,
       "version_minor": 0
      },
      "text/plain": [
       "IntSlider(value=25, description='Age:', max=50, min=16)"
      ]
     },
     "metadata": {},
     "output_type": "display_data"
    },
    {
     "data": {
      "application/vnd.jupyter.widget-view+json": {
       "model_id": "f486472f26ad4eff9a4cfdf6b690e515",
       "version_major": 2,
       "version_minor": 0
      },
      "text/plain": [
       "IntSlider(value=5, description='Usage_Rate_Per:', max=50)"
      ]
     },
     "metadata": {},
     "output_type": "display_data"
    },
    {
     "data": {
      "application/vnd.jupyter.widget-view+json": {
       "model_id": "32ad045583744a2da81e27cfb824d7ac",
       "version_major": 2,
       "version_minor": 0
      },
      "text/plain": [
       "IntSlider(value=500, description='Score:', max=5000)"
      ]
     },
     "metadata": {},
     "output_type": "display_data"
    },
    {
     "data": {
      "application/vnd.jupyter.widget-view+json": {
       "model_id": "b8a11dd4f9f249ac87e528b39a3b9178",
       "version_major": 2,
       "version_minor": 0
      },
      "text/plain": [
       "IntSlider(value=50000000, description='market_value_in_eur:', max=200000000, step=100000)"
      ]
     },
     "metadata": {},
     "output_type": "display_data"
    },
    {
     "data": {
      "application/vnd.jupyter.widget-view+json": {
       "model_id": "6423a93dc91c408789f9a1adbab14385",
       "version_major": 2,
       "version_minor": 0
      },
      "text/plain": [
       "IntSlider(value=0, description='Performance_Save_per:')"
      ]
     },
     "metadata": {},
     "output_type": "display_data"
    },
    {
     "data": {
      "application/vnd.jupyter.widget-view+json": {
       "model_id": "681e00540fae4481b12fbbd735b480a7",
       "version_major": 2,
       "version_minor": 0
      },
      "text/plain": [
       "IntSlider(value=0, description='Penalties_saved_Att:', max=20)"
      ]
     },
     "metadata": {},
     "output_type": "display_data"
    },
    {
     "data": {
      "application/vnd.jupyter.widget-view+json": {
       "model_id": "5e8ede54e387499ca720777bf7bb6b3b",
       "version_major": 2,
       "version_minor": 0
      },
      "text/plain": [
       "IntSlider(value=0, description='PSxG_minus_GA:', max=30)"
      ]
     },
     "metadata": {},
     "output_type": "display_data"
    },
    {
     "data": {
      "application/vnd.jupyter.widget-view+json": {
       "model_id": "d91745f3ba854dce843c3184da11c18e",
       "version_major": 2,
       "version_minor": 0
      },
      "text/plain": [
       "IntSlider(value=0, description='Crosses_Stp_per:', max=30)"
      ]
     },
     "metadata": {},
     "output_type": "display_data"
    },
    {
     "data": {
      "application/vnd.jupyter.widget-view+json": {
       "model_id": "dcd243c664444f5ebe5a265f51e57bb7",
       "version_major": 2,
       "version_minor": 0
      },
      "text/plain": [
       "IntSlider(value=0, description='Number_of_Sweep:', max=10)"
      ]
     },
     "metadata": {},
     "output_type": "display_data"
    },
    {
     "data": {
      "application/vnd.jupyter.widget-view+json": {
       "model_id": "e3c0aef42a1347b2838ccb1176a36888",
       "version_major": 2,
       "version_minor": 0
      },
      "text/plain": [
       "IntSlider(value=0, description='Long_Pass_Acc_per:', max=50)"
      ]
     },
     "metadata": {},
     "output_type": "display_data"
    },
    {
     "data": {
      "application/vnd.jupyter.widget-view+json": {
       "model_id": "3fd7db57389344e0a97ae73cced90a33",
       "version_major": 2,
       "version_minor": 0
      },
      "text/plain": [
       "Output()"
      ]
     },
     "metadata": {},
     "output_type": "display_data"
    }
   ],
   "source": [
    "# Displays the widget output and the sliders for goalkeepers\n",
    "display(Age_slider, Usage_Rate_slider, Score_slider, \n",
    "        market_value_in_eur_slider, Performance_Save_per_slider, Penalties_saved_slider,\n",
    "        PSxG_minus_GA_slider, Crosses_Stp_per_slider, Number_of_Sweep_slider, Long_Pass_Acc_per_slider,\n",
    "        out_GK)\n",
    "\n",
    "# Adapted From:\n",
    "# Title: Widget List\n",
    "# Author: Jupyter Widgets\n",
    "# Date: No date\n",
    "# Code Version: 7.6.2\n",
    "# Source: \"https://ipywidgets.readthedocs.io/en/7.6.2/examples/Using%20Interact.html\"\n",
    "\n",
    "# Adapted From:\n",
    "# Title: Widget List\n",
    "# Author: Jupyter Widgets\n",
    "# Date: No date\n",
    "# Code Version: 8.1.3\n",
    "# Source: \"https://ipywidgets.readthedocs.io/en/latest/examples/Using%20Interact.html\"\n",
    "\n",
    "# Adapted From:\n",
    "# Title: ipywidgets: Interactive Widgets in Jupyter Notebooks (Complete Guide)\n",
    "# Author: Sunny Solanki\n",
    "# Date: 2022\n",
    "# Code Version: N/A\n",
    "# Source: \"https://coderzcolumn.com/tutorials/python/interactive-widgets-in-jupyter-notebook-using-ipywidgets\"\n",
    "\n",
    "# Adapted From:\n",
    "# Author: Open AI\n",
    "# Date: 2024\n",
    "# Source: ChatGPT [online] \"https://chat.openai.com/\""
   ]
  },
  {
   "cell_type": "code",
   "execution_count": 18,
   "id": "f5c649bd",
   "metadata": {},
   "outputs": [
    {
     "data": {
      "text/plain": [
       "'Reference List\\n\\nJupyter Widgets (No date) Widget List. ipywidgets [online]. Code Version: 7.6.2\\nAvaible at: \"https://ipywidgets.readthedocs.io/en/7.6.2/examples/Using%20Interact.html\"\\n[Accessed on: 19th June 2024]\\n\\nJupyter Widgets (No date) Widget List. ipywidgets [online]. Code Version: 8.1.3\\nAvaible at: \"https://ipywidgets.readthedocs.io/en/latest/examples/Using%20Interact.html\"\\n[Accessed on: 19th June 2024]\\n\\nipython (No date) Widget List. ipython [online]. Code Version: 6.0\\nAvaible at: \"https://ipython.readthedocs.io/en/stable/api/generated/IPython.display.html\"\\n[Accessed on: 19th June 2024]\\n\\nOpenAI (2024) ChatGPT [online]. Available from: https://chat.openai.com/ [Accessed June 3rd 2024]\\n\\nPandas (No date) Title: User Guide - Pandas. Pandas. Available at: \"https://pandas.pydata.org/docs/user_guide/index.html\"\\n[Accessed on: 5th August 2024]\\n\\nShaw and Holland (2019) Hierarchical Big data landscape Model. Research In Progress. \\nIn: Lecture notes and personal correspondence. Algorithms I. CP Holland, Loughborough University, (2024).\\n\\n'"
      ]
     },
     "execution_count": 18,
     "metadata": {},
     "output_type": "execute_result"
    }
   ],
   "source": [
    "'''Reference List\n",
    "\n",
    "Jupyter Widgets (No date) Widget List. ipywidgets [online]. Code Version: 7.6.2\n",
    "Avaible at: \"https://ipywidgets.readthedocs.io/en/7.6.2/examples/Using%20Interact.html\"\n",
    "[Accessed on: 19th June 2024]\n",
    "\n",
    "Jupyter Widgets (No date) Widget List. ipywidgets [online]. Code Version: 8.1.3\n",
    "Avaible at: \"https://ipywidgets.readthedocs.io/en/latest/examples/Using%20Interact.html\"\n",
    "[Accessed on: 19th June 2024]\n",
    "\n",
    "ipython (No date) Widget List. ipython [online]. Code Version: 6.0\n",
    "Avaible at: \"https://ipython.readthedocs.io/en/stable/api/generated/IPython.display.html\"\n",
    "[Accessed on: 19th June 2024]\n",
    "\n",
    "OpenAI (2024) ChatGPT [online]. Available from: https://chat.openai.com/ [Accessed June 3rd 2024]\n",
    "\n",
    "Pandas (No date) Title: User Guide - Pandas. Pandas. Available at: \"https://pandas.pydata.org/docs/user_guide/index.html\"\n",
    "[Accessed on: 5th August 2024]\n",
    "\n",
    "Shaw and Holland (2019) Hierarchical Big data landscape Model. Research In Progress. \n",
    "In: Lecture notes and personal correspondence. Algorithms I. CP Holland, Loughborough University, (2024).\n",
    "\n",
    "'''"
   ]
  },
  {
   "cell_type": "code",
   "execution_count": 19,
   "id": "e4a306c1",
   "metadata": {},
   "outputs": [
    {
     "data": {
      "text/plain": [
       "\"\\nFurthermore, I acknowledge the use of OpenAI (source: https://chat.openai.com/)\\u202fto aid me in making sure my code \\nwas efficient and working, using it to help me with errors, structure and understanding the code, which was included in the\\nwork submitted for assessment. I confirm that all use of AI content is acknowledged and referenced appropriately.\\n\\n2)The following prompt was input into (OpenAI: \\n[“For a scouting system, what kind of IPY widget would you recommend? One where I can interact with the scouting system and \\nchange the input to give me a different output?”]\\n\\nThe output obtained was: \\n(“For a scouting system where you want to interact with the input and dynamically see the output, an interactive IPyWidgets dashboard would be ideal. Here's a recommended setup:\\n1. Dropdown/Select Widget\\nUse case: Select options like player position, team, or skill level.\\nWidget: Dropdown or SelectMultiple\\nExample:\\npython\\nimport ipywidgets as widgets\\nposition = widgets.Dropdown(\\n    options=['Goalkeeper', 'Defender', 'Midfielder', 'Forward'],\\n    value='Forward',\\n    description='Position:',\\n)\\n\\n\\n2. Slider Widget\\nUse case: Adjust parameters like age, height, weight, or skill rating.\\nWidget: IntSlider or FloatSlider\\nExample:\\npython\\nCopy code\\nage_slider = widgets.IntSlider(\\n    value=25,\\n    min=16,\\n    max=40,\\n    step=1,\\n    description='Age:',\\n)\\n\\n\\n3. Text Input Widget\\nUse case: Input player name, team name, or other custom search terms.\\nWidget: Text\\nExample:\\npython\\nCopy code\\nplayer_name = widgets.Text(\\n    value='',\\n    placeholder='Enter player name',\\n    description='Player Name:',\\n)”\\n\\nI adapted this code by selecting the slider widget and after some research built on the code that ChatGPT provided me to \\nbuild a fully functional scouting system with my own variables and adapted to my dataset. \\n\\n\""
      ]
     },
     "execution_count": 19,
     "metadata": {},
     "output_type": "execute_result"
    }
   ],
   "source": [
    "'''\n",
    "Furthermore, I acknowledge the use of OpenAI (source: https://chat.openai.com/) to aid me in making sure my code \n",
    "was efficient and working, using it to help me with errors, structure and understanding the code, which was included in the\n",
    "work submitted for assessment. I confirm that all use of AI content is acknowledged and referenced appropriately.\n",
    "\n",
    "2)The following prompt was input into (OpenAI: \n",
    "[“For a scouting system, what kind of IPY widget would you recommend? One where I can interact with the scouting system and \n",
    "change the input to give me a different output?”]\n",
    "\n",
    "The output obtained was: \n",
    "(“For a scouting system where you want to interact with the input and dynamically see the output, an interactive IPyWidgets dashboard would be ideal. Here's a recommended setup:\n",
    "1. Dropdown/Select Widget\n",
    "Use case: Select options like player position, team, or skill level.\n",
    "Widget: Dropdown or SelectMultiple\n",
    "Example:\n",
    "python\n",
    "import ipywidgets as widgets\n",
    "position = widgets.Dropdown(\n",
    "    options=['Goalkeeper', 'Defender', 'Midfielder', 'Forward'],\n",
    "    value='Forward',\n",
    "    description='Position:',\n",
    ")\n",
    "\n",
    "\n",
    "2. Slider Widget\n",
    "Use case: Adjust parameters like age, height, weight, or skill rating.\n",
    "Widget: IntSlider or FloatSlider\n",
    "Example:\n",
    "python\n",
    "Copy code\n",
    "age_slider = widgets.IntSlider(\n",
    "    value=25,\n",
    "    min=16,\n",
    "    max=40,\n",
    "    step=1,\n",
    "    description='Age:',\n",
    ")\n",
    "\n",
    "\n",
    "3. Text Input Widget\n",
    "Use case: Input player name, team name, or other custom search terms.\n",
    "Widget: Text\n",
    "Example:\n",
    "python\n",
    "Copy code\n",
    "player_name = widgets.Text(\n",
    "    value='',\n",
    "    placeholder='Enter player name',\n",
    "    description='Player Name:',\n",
    ")”\n",
    "\n",
    "I adapted this code by selecting the slider widget and after some research built on the code that ChatGPT provided me to \n",
    "build a fully functional scouting system with my own variables and adapted to my dataset. \n",
    "\n",
    "'''"
   ]
  }
 ],
 "metadata": {
  "kernelspec": {
   "display_name": "Python 3 (ipykernel)",
   "language": "python",
   "name": "python3"
  },
  "language_info": {
   "codemirror_mode": {
    "name": "ipython",
    "version": 3
   },
   "file_extension": ".py",
   "mimetype": "text/x-python",
   "name": "python",
   "nbconvert_exporter": "python",
   "pygments_lexer": "ipython3",
   "version": "3.11.5"
  }
 },
 "nbformat": 4,
 "nbformat_minor": 5
}
